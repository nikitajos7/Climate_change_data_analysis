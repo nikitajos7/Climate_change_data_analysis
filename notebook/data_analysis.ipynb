{
 "cells": [
  {
   "cell_type": "code",
   "execution_count": null,
   "id": "55c1afa5-f5a9-400b-8d7d-362bf02a09be",
   "metadata": {},
   "outputs": [],
   "source": [
    "import pandas as pd\n",
    "import matplotlib.pyplot as plt\n",
    "import seaborn as sns\n",
    "import geopandas as gpd\n",
    "from scipy import stats\n",
    "import statsmodels.api as sm\n",
    "\n",
    "# Load and clean data\n",
    "#def read_csv():\n",
    "df = pd.read_csv('../input_data/combined_temperature.csv')\n",
    "df.dropna()"
   ]
  },
  {
   "cell_type": "code",
   "execution_count": null,
   "id": "33e9051d-1660-4620-8362-98a916da8786",
   "metadata": {},
   "outputs": [],
   "source": [
    "countries = df[\"Country\"].unique() \n",
    "\n",
    "choice = input(\"Which countries graph would you like to see?: \") \n",
    "if choice.lower() == \"all\": \n",
    "    for country in countries: \n",
    "        country_data = df[df[\"Country\"] == country] \n",
    "        plt.figure(figsize=(10, 5)) \n",
    "        sns.lineplot(data=country_data, x='Year', y='Annual Mean', hue='Country') \n",
    "        plt.title('Temperature Changes Over Time by Country') \n",
    "        plt.xlabel('Year')\n",
    "        plt.ylabel('Annual Mean (°C)') \n",
    "        plt.legend(title='City', bbox_to_anchor=(1.05, 1), loc='upper left') \n",
    "        plt.show() \n",
    "        plt.savefig('../output/temperature_trends.png') \n",
    "        plt.close() \n",
    "else: \n",
    "    country_data = df[df[\"Country\"] == choice] \n",
    "    plt.figure(figsize=(10, 5)) \n",
    "    sns.lineplot(data=country_data, x='Year', y='Annual Mean', hue='Country') \n",
    "    plt.title('Temperature Changes Over Time by Country') \n",
    "    plt.xlabel('Year') \n",
    "    plt.ylabel('Annual Mean (°C)') \n",
    "    plt.legend(title='City', bbox_to_anchor=(1.05, 1), loc='upper left') \n",
    "    plt.show() \n",
    "    plt.savefig('../output/temperature_trends.png') \n",
    "    plt.close()"
   ]
  },
  {
   "cell_type": "code",
   "execution_count": null,
   "id": "4b13ea18-bf73-4cb6-8974-a3c968bd5922",
   "metadata": {},
   "outputs": [],
   "source": [
    "X = df['Year']\n",
    "y = df['Annual Mean']\n",
    "X = sm.add_constant(X)\n",
    "model = sm.OLS(y, X).fit()\n",
    "\n",
    "# Print regression results\n",
    "print(model.summary())"
   ]
  },
  {
   "cell_type": "code",
   "execution_count": null,
   "id": "b897daba-1436-4789-8a78-b392d6d78fbc",
   "metadata": {},
   "outputs": [],
   "source": [
    "gdf = gpd.read_file('../input_data/countries.geo.json')\n",
    "gdf = gdf.merge(df, left_on='name',right_on='Country')\n",
    "\n",
    "fig, ax = plt.subplots(figsize=(10, 5))\n",
    "gdf.plot(column='Annual Mean', ax=ax, legend=True, \n",
    "         legend_kwds={'label': 'Annual Mean', 'orientation': 'horizontal'},\n",
    "         cmap='YlGn')\n",
    "ax.set_title('Annual Mean')\n",
    "plt.axis('off')\n",
    "plt.tight_layout()\n",
    "plt.show()\n",
    "plt.savefig('../output/annual_mean_map.png')\n",
    "plt.close()\n",
    "\n",
    "# Assuming df is your DataFrame with 'Country' and 'Annual Mean' columns\n",
    "df['Temperature Change'] = df.groupby('Country')['Annual Mean'].transform(lambda x: x.max() - x.min())\n",
    "\n",
    "gdf = gpd.read_file('../input_data/countries.geo.json')\n",
    "gdf = gdf.merge(df, left_on='name', right_on='Country')\n",
    "\n",
    "fig, ax = plt.subplots(figsize=(10, 5))\n",
    "gdf.plot(column='Temperature Change', ax=ax, legend=True, \n",
    "         legend_kwds={'label': 'Change in Temperature (°C)', 'orientation': 'horizontal'},\n",
    "         cmap='RdBu_r')  # RdBu_r is a diverging colormap (blue for cooling, red for warming)\n",
    "ax.set_title('World view of Temperature Change (max - min)')\n",
    "plt.axis('off')\n",
    "plt.tight_layout()\n",
    "plt.show()\n",
    "plt.savefig('../output/annual_mean_maxminusmin_map.png')\n",
    "plt.close()"
   ]
  },
  {
   "cell_type": "code",
   "execution_count": null,
   "id": "42643ac0-7700-4d03-b443-282bec84c7f6",
   "metadata": {},
   "outputs": [],
   "source": [
    "# Calculate correlation between temperature and green space size\n",
    "csv_path = input(\"Enter the path to the csv file you want to compare: \")\n",
    "country_name = input(\"Enter the column name in your csv file the represents the country: \")\n",
    "value_to_compare = input(\"Enter the column name in you csv file that represents the value you want to compare: \")\n",
    "\n",
    "compare_df = pd.read_csv(csv_path)\n",
    "compare_df.dropna()\n",
    "temp_change = df.groupby('Country').agg({\n",
    "    'Year': ['min', 'max'],\n",
    "    'Annual Mean': ['first', 'last']\n",
    "}).reset_index()\n",
    "\n",
    "temp_change.columns = [country_name, 'First_Year', 'Last_Year', 'First_Temp', 'Last_Temp']\n",
    "temp_change['Temperature_Change'] = temp_change['Last_Temp'] - temp_change['First_Temp']\n",
    "\n",
    "total_emissions = compare_df.groupby(country_name)[value_to_compare].sum().reset_index()\n",
    "\n",
    "merged_data = pd.merge(temp_change, total_emissions, on=country_name)\n",
    "\n",
    "correlation = merged_data['Temperature_Change'].corr(merged_data[value_to_compare])\n",
    "print(f\"Correlation between Temperature Change and Total CO2 Emissions: {correlation:.2f}\")"
   ]
  },
  {
   "cell_type": "code",
   "execution_count": null,
   "id": "4ee71f1a-51cf-495d-b593-9b80fd182870",
   "metadata": {},
   "outputs": [],
   "source": [
    "# Perform t-test to assess statistical significance\n",
    "t_stat, p_value = stats.ttest_ind(merged_data['Temperature_Change'], merged_data[value_to_compare])\n",
    "print(f\"T-statistic: {t_stat:.2f}\")\n",
    "print(f\"P-value: {p_value:.4f}\")"
   ]
  }
 ],
 "metadata": {
  "kernelspec": {
   "display_name": "Python 3 (ipykernel)",
   "language": "python",
   "name": "python3"
  },
  "language_info": {
   "codemirror_mode": {
    "name": "ipython",
    "version": 3
   },
   "file_extension": ".py",
   "mimetype": "text/x-python",
   "name": "python",
   "nbconvert_exporter": "python",
   "pygments_lexer": "ipython3",
   "version": "3.12.4"
  }
 },
 "nbformat": 4,
 "nbformat_minor": 5
}
